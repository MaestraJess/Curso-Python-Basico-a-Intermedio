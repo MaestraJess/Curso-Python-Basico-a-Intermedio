{
  "nbformat": 4,
  "nbformat_minor": 0,
  "metadata": {
    "colab": {
      "provenance": [],
      "authorship_tag": "ABX9TyNOXS3O7qfi61d0ASYIeB4r",
      "include_colab_link": true
    },
    "kernelspec": {
      "name": "python3",
      "display_name": "Python 3"
    },
    "language_info": {
      "name": "python"
    }
  },
  "cells": [
    {
      "cell_type": "markdown",
      "metadata": {
        "id": "view-in-github",
        "colab_type": "text"
      },
      "source": [
        "<a href=\"https://colab.research.google.com/github/MaestraJess/Curso-Python-Basico-a-Intermedio/blob/main/Hello_World.ipynb\" target=\"_parent\"><img src=\"https://colab.research.google.com/assets/colab-badge.svg\" alt=\"Open In Colab\"/></a>"
      ]
    },
    {
      "cell_type": "markdown",
      "source": [
        "#Primer clase de Python"
      ],
      "metadata": {
        "id": "p79BM_HLAj36"
      }
    },
    {
      "cell_type": "code",
      "source": [
        "#En Python podemos usar comillas dobles\n",
        "#para crear un string (cadena de caracteres o texto)\n",
        "print(\"hello, world!\")"
      ],
      "metadata": {
        "colab": {
          "base_uri": "https://localhost:8080/"
        },
        "id": "N33kpufhAMDt",
        "outputId": "1f53ff2d-f9aa-42e3-9ecd-6c4a4532bf74"
      },
      "execution_count": 1,
      "outputs": [
        {
          "output_type": "stream",
          "name": "stdout",
          "text": [
            "hello, world!\n"
          ]
        }
      ]
    }
  ]
}