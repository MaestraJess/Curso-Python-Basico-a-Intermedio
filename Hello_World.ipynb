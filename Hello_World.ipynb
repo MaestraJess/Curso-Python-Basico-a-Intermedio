{
  "nbformat": 4,
  "nbformat_minor": 0,
  "metadata": {
    "colab": {
      "provenance": [],
      "include_colab_link": true
    },
    "kernelspec": {
      "name": "python3",
      "display_name": "Python 3"
    },
    "language_info": {
      "name": "python"
    }
  },
  "cells": [
    {
      "cell_type": "markdown",
      "metadata": {
        "id": "view-in-github",
        "colab_type": "text"
      },
      "source": [
        "<a href=\"https://colab.research.google.com/github/MaestraJess/Curso-Python-Basico-a-Intermedio/blob/main/Hello_World.ipynb\" target=\"_parent\"><img src=\"https://colab.research.google.com/assets/colab-badge.svg\" alt=\"Open In Colab\"/></a>"
      ]
    },
    {
      "cell_type": "markdown",
      "source": [
        "#Primer clase de Python"
      ],
      "metadata": {
        "id": "p79BM_HLAj36"
      }
    },
    {
      "cell_type": "code",
      "source": [
        "#En Python podemos usar comillas dobles\n",
        "#para crear un string (cadena de caracteres o texto)\n",
        "print(\"hello, world!\")"
      ],
      "metadata": {
        "colab": {
          "base_uri": "https://localhost:8080/"
        },
        "id": "N33kpufhAMDt",
        "outputId": "6378e54f-273f-4b7a-da9a-7a163cd2c693"
      },
      "execution_count": 4,
      "outputs": [
        {
          "output_type": "stream",
          "name": "stdout",
          "text": [
            "hello, world!\n"
          ]
        }
      ]
    },
    {
      "cell_type": "code",
      "source": [
        "print(\"hello you!\")"
      ],
      "metadata": {
        "id": "pBcx9c8Sva1-",
        "outputId": "cd5111d7-8c79-434c-e6bd-8a16129a0de9",
        "colab": {
          "base_uri": "https://localhost:8080/"
        }
      },
      "execution_count": 3,
      "outputs": [
        {
          "output_type": "stream",
          "name": "stdout",
          "text": [
            "hello you!\n"
          ]
        }
      ]
    },
    {
      "cell_type": "code",
      "source": [
        "#Aunque no es necesario escribir un print en colab\n",
        "#para mostrar un resultado\n",
        "\"Hello, World\"\n",
        "#Util cuando desarrollamos o queremos ver un resultado de manera muy rapida,\n",
        "#pero como buen practica hay que usar siempre el print"
      ],
      "metadata": {
        "id": "Es2C8hYguwb5",
        "outputId": "1c88e31d-ec9c-4018-8365-8a5a2dbca8d2",
        "colab": {
          "base_uri": "https://localhost:8080/",
          "height": 36
        }
      },
      "execution_count": 2,
      "outputs": [
        {
          "output_type": "execute_result",
          "data": {
            "text/plain": [
              "'Hello, World'"
            ],
            "application/vnd.google.colaboratory.intrinsic+json": {
              "type": "string"
            }
          },
          "metadata": {},
          "execution_count": 2
        }
      ]
    }
  ]
}