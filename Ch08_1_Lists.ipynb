{
  "cells": [
    {
      "cell_type": "markdown",
      "metadata": {
        "id": "view-in-github",
        "colab_type": "text"
      },
      "source": [
        "<a href=\"https://colab.research.google.com/github/MaestraJess/Curso-Python-Basico-a-Intermedio/blob/main/Ch08_1_Lists.ipynb\" target=\"_parent\"><img src=\"https://colab.research.google.com/assets/colab-badge.svg\" alt=\"Open In Colab\"/></a>"
      ]
    },
    {
      "cell_type": "markdown",
      "metadata": {
        "id": "0X-5odFACf6w"
      },
      "source": [
        "# 8 Lists\n",
        "<a href=\"https://colab.research.google.com/github/rambasnet/FDSPython-Notebooks/blob/master/Ch08-1-Lists.ipynb\" target=\"_parent\"><img src=\"https://colab.research.google.com/assets/colab-badge.svg\" alt=\"Open In Colab\"/></a>\n",
        "\n",
        "- http://openbookproject.net/thinkcs/python/english3e/lists.html\n",
        "\n",
        "## Topics\n",
        "- list data structure\n",
        "- syntax to create lists\n",
        "- methods or operations provided to list objects\n",
        "- list operators\n",
        "- list traversal\n",
        "- list applications and problems\n",
        "\n",
        "## 8.1 Lists\n",
        "- a type of sequence or container\n",
        "- ordered collection of values called elements or items\n",
        "- lists are similar to strings (ordered collections of characters) except that elements of a list can be of any type"
      ]
    },
    {
      "cell_type": "markdown",
      "metadata": {
        "id": "4UbdibK4Cf6x"
      },
      "source": [
        "## 8.2 Creating lists\n",
        "- several ways; the simplest is to enclose the elements in square brackets [ ]"
      ]
    },
    {
      "cell_type": "code",
      "execution_count": 176,
      "metadata": {
        "id": "8fCYwiYMCf6x"
      },
      "outputs": [],
      "source": [
        "alist = [] # an empty list"
      ]
    },
    {
      "cell_type": "code",
      "execution_count": 177,
      "metadata": {
        "id": "yJrvpqK1Cf6y"
      },
      "outputs": [],
      "source": [
        "blist = list() # an empty list"
      ]
    },
    {
      "cell_type": "code",
      "execution_count": 178,
      "metadata": {
        "colab": {
          "base_uri": "https://localhost:8080/"
        },
        "id": "Rdw3qpOVCf6y",
        "outputId": "6edea153-b781-4b34-9df7-4e244b9cf152"
      },
      "outputs": [
        {
          "output_type": "execute_result",
          "data": {
            "text/plain": [
              "list"
            ]
          },
          "metadata": {},
          "execution_count": 178
        }
      ],
      "source": [
        "type(alist)"
      ]
    },
    {
      "cell_type": "code",
      "execution_count": 179,
      "metadata": {
        "id": "sLlHb6uSCf6z"
      },
      "outputs": [],
      "source": [
        "# creating lists with some elements of same type\n",
        "list1 = [10, 20, 30, 40]\n",
        "list2 = ['spam', 'bungee', 'swallow']"
      ]
    },
    {
      "cell_type": "code",
      "execution_count": 180,
      "metadata": {
        "id": "peKjVNWSCf6z"
      },
      "outputs": [],
      "source": [
        "# lists with elements of different types\n",
        "list3 = [\"hello\", 2.0, 10, [10, ('hi', 'world'), 3.5], (1, 'uno')]"
      ]
    },
    {
      "cell_type": "code",
      "execution_count": 181,
      "metadata": {
        "colab": {
          "base_uri": "https://localhost:8080/"
        },
        "id": "YOxYU6r2Cf6z",
        "outputId": "b231ed7e-e6a7-41bb-8a16-6a55064c2a49"
      },
      "outputs": [
        {
          "output_type": "stream",
          "name": "stdout",
          "text": [
            "['hello', 2.0, 10, [10, ('hi', 'world'), 3.5], (1, 'uno')]\n"
          ]
        }
      ],
      "source": [
        "# print list\n",
        "print(list3)"
      ]
    },
    {
      "cell_type": "code",
      "execution_count": 182,
      "metadata": {
        "id": "zRsiAl9QCf6z"
      },
      "outputs": [],
      "source": [
        "# quickly create a list of range of numbers between 1 and 19\n",
        "list4 = list(range(1, 20, 1))"
      ]
    },
    {
      "cell_type": "code",
      "execution_count": 183,
      "metadata": {
        "colab": {
          "base_uri": "https://localhost:8080/"
        },
        "id": "mZJtSH-YCf6z",
        "outputId": "4606b226-f4dc-41f5-f87c-23547ec007c2"
      },
      "outputs": [
        {
          "output_type": "stream",
          "name": "stdout",
          "text": [
            "[1, 2, 3, 4, 5, 6, 7, 8, 9, 10, 11, 12, 13, 14, 15, 16, 17, 18, 19]\n"
          ]
        }
      ],
      "source": [
        "print(list4)"
      ]
    },
    {
      "cell_type": "code",
      "execution_count": 184,
      "metadata": {
        "colab": {
          "base_uri": "https://localhost:8080/"
        },
        "id": "j48s73L0Cf6z",
        "outputId": "a625db60-341e-4557-ce57-0dde9cb4fea5"
      },
      "outputs": [
        {
          "output_type": "stream",
          "name": "stdout",
          "text": [
            "[] [10, 20, 30, 40] ['spam', 'bungee', 'swallow'] ['hello', 2.0, 10, [10, ('hi', 'world'), 3.5], (1, 'uno')]\n"
          ]
        }
      ],
      "source": [
        "# print multiple lists\n",
        "print(alist, list1, list2, list3)"
      ]
    },
    {
      "cell_type": "code",
      "execution_count": 28,
      "metadata": {
        "id": "IOKd0M3ZCf60"
      },
      "outputs": [],
      "source": [
        "# Exercise: create a list of even numbers between 1 and 20 inclusive"
      ]
    },
    {
      "cell_type": "code",
      "execution_count": 29,
      "metadata": {
        "id": "6p1RubrFCf60"
      },
      "outputs": [],
      "source": [
        "# Exercise: create a list of odd numbers between 1 and 20 inclusive"
      ]
    },
    {
      "cell_type": "code",
      "execution_count": 30,
      "metadata": {
        "id": "YTsKbZSTCf60"
      },
      "outputs": [],
      "source": [
        "# Exercise: create a list of numbers from 20 to 1 inclusive"
      ]
    },
    {
      "cell_type": "markdown",
      "metadata": {
        "id": "78E18d_wCf60"
      },
      "source": [
        "## 8.3 Accessing elements\n",
        "- same syntax for accessing characters of a string, the index operator: ['index']"
      ]
    },
    {
      "cell_type": "code",
      "execution_count": 185,
      "metadata": {
        "colab": {
          "base_uri": "https://localhost:8080/"
        },
        "id": "5wv8f8oQCf60",
        "outputId": "297317b2-bf00-4a38-b9c0-947bc5ae97c1"
      },
      "outputs": [
        {
          "output_type": "execute_result",
          "data": {
            "text/plain": [
              "[10, 20, 30, 40]"
            ]
          },
          "metadata": {},
          "execution_count": 185
        }
      ],
      "source": [
        "# let's see what elements are in list1\n",
        "list1"
      ]
    },
    {
      "cell_type": "code",
      "execution_count": 186,
      "metadata": {
        "colab": {
          "base_uri": "https://localhost:8080/"
        },
        "id": "0yYYQGckCf60",
        "outputId": "bbe2d009-374f-4bd7-be47-279fe5922304"
      },
      "outputs": [
        {
          "output_type": "execute_result",
          "data": {
            "text/plain": [
              "10"
            ]
          },
          "metadata": {},
          "execution_count": 186
        }
      ],
      "source": [
        "# access an element, which one?\n",
        "list1[0]"
      ]
    },
    {
      "cell_type": "code",
      "execution_count": 187,
      "metadata": {
        "colab": {
          "base_uri": "https://localhost:8080/"
        },
        "id": "HY09Mjg5Cf60",
        "outputId": "f20d3b71-02f3-4421-e6c6-a1c3d536eb85"
      },
      "outputs": [
        {
          "output_type": "execute_result",
          "data": {
            "text/plain": [
              "['hello', 2.0, 10, [10, ('hi', 'world'), 3.5], (1, 'uno')]"
            ]
          },
          "metadata": {},
          "execution_count": 187
        }
      ],
      "source": [
        "list3"
      ]
    },
    {
      "cell_type": "code",
      "execution_count": 189,
      "metadata": {
        "colab": {
          "base_uri": "https://localhost:8080/",
          "height": 36
        },
        "id": "oPcqTTHwCf60",
        "outputId": "77da4a0f-8837-4831-c5bd-8c7656f7973a"
      },
      "outputs": [
        {
          "output_type": "execute_result",
          "data": {
            "text/plain": [
              "'hello'"
            ],
            "application/vnd.google.colaboratory.intrinsic+json": {
              "type": "string"
            }
          },
          "metadata": {},
          "execution_count": 189
        }
      ],
      "source": [
        "list3[0]"
      ]
    },
    {
      "cell_type": "code",
      "execution_count": 35,
      "metadata": {
        "colab": {
          "base_uri": "https://localhost:8080/"
        },
        "id": "_ZlPlAK6Cf60",
        "outputId": "37b82242-6a68-4188-9f61-4a202b3a6ea9"
      },
      "outputs": [
        {
          "output_type": "stream",
          "name": "stdout",
          "text": [
            "hello\n"
          ]
        }
      ],
      "source": [
        "# list index can be variable as well\n",
        "index = 0\n",
        "print(list3[index])"
      ]
    },
    {
      "cell_type": "code",
      "execution_count": 191,
      "metadata": {
        "colab": {
          "base_uri": "https://localhost:8080/"
        },
        "id": "GvndVW8wCf61",
        "outputId": "2aedb4cd-5862-4a3b-9928-5c92011bb9d9"
      },
      "outputs": [
        {
          "output_type": "execute_result",
          "data": {
            "text/plain": [
              "2.0"
            ]
          },
          "metadata": {},
          "execution_count": 191
        }
      ],
      "source": [
        "# can you use float value as an index?\n",
        "list3[1]"
      ]
    },
    {
      "cell_type": "code",
      "execution_count": 37,
      "metadata": {
        "colab": {
          "base_uri": "https://localhost:8080/"
        },
        "id": "CIjP0XF5Cf61",
        "outputId": "9267c506-2366-4db6-f84a-01b5c02e749d"
      },
      "outputs": [
        {
          "output_type": "execute_result",
          "data": {
            "text/plain": [
              "5"
            ]
          },
          "metadata": {},
          "execution_count": 37
        }
      ],
      "source": [
        "# how many elements are there in list3?\n",
        "len(list3)"
      ]
    },
    {
      "cell_type": "code",
      "execution_count": 194,
      "metadata": {
        "colab": {
          "base_uri": "https://localhost:8080/",
          "height": 182
        },
        "id": "NS2Fa-ZUCf61",
        "outputId": "663fc2fd-7771-472c-fa3a-0c3d4ef864aa"
      },
      "outputs": [
        {
          "output_type": "error",
          "ename": "IndexError",
          "evalue": "ignored",
          "traceback": [
            "\u001b[0;31m---------------------------------------------------------------------------\u001b[0m",
            "\u001b[0;31mIndexError\u001b[0m                                Traceback (most recent call last)",
            "\u001b[0;32m<ipython-input-194-207cd7e1c880>\u001b[0m in \u001b[0;36m<cell line: 2>\u001b[0;34m()\u001b[0m\n\u001b[1;32m      1\u001b[0m \u001b[0;31m# what happens if you access an index equal to the size of the list\u001b[0m\u001b[0;34m\u001b[0m\u001b[0;34m\u001b[0m\u001b[0m\n\u001b[0;32m----> 2\u001b[0;31m \u001b[0mlist3\u001b[0m\u001b[0;34m[\u001b[0m\u001b[0;36m5\u001b[0m\u001b[0;34m]\u001b[0m\u001b[0;34m\u001b[0m\u001b[0;34m\u001b[0m\u001b[0m\n\u001b[0m",
            "\u001b[0;31mIndexError\u001b[0m: list index out of range"
          ]
        }
      ],
      "source": [
        "# what happens if you access an index equal to the size of the list\n",
        "list3[5]"
      ]
    },
    {
      "cell_type": "code",
      "execution_count": 195,
      "metadata": {
        "colab": {
          "base_uri": "https://localhost:8080/"
        },
        "id": "0gcC0qzRCf61",
        "outputId": "0da60973-8277-4731-8bf3-7bc600607d83"
      },
      "outputs": [
        {
          "output_type": "execute_result",
          "data": {
            "text/plain": [
              "['hello', 2.0, 10, [10, ('hi', 'world'), 3.5], (1, 'uno')]"
            ]
          },
          "metadata": {},
          "execution_count": 195
        }
      ],
      "source": [
        "list3"
      ]
    },
    {
      "cell_type": "code",
      "execution_count": 197,
      "metadata": {
        "colab": {
          "base_uri": "https://localhost:8080/"
        },
        "id": "MzpmS1xyCf61",
        "outputId": "8e6abfd2-7eea-46db-e4b8-52a03450b803"
      },
      "outputs": [
        {
          "output_type": "execute_result",
          "data": {
            "text/plain": [
              "(1, 'uno')"
            ]
          },
          "metadata": {},
          "execution_count": 197
        }
      ],
      "source": [
        "# Ejercicio: accede e imprime el último elemento de list3\n",
        "elemento = list3[-1]\n",
        "elemento"
      ]
    },
    {
      "cell_type": "code",
      "execution_count": 48,
      "metadata": {
        "colab": {
          "base_uri": "https://localhost:8080/",
          "height": 36
        },
        "id": "2pOMbKJLCf61",
        "outputId": "80ff773d-fd12-4a0a-811a-b6de32cf0a54"
      },
      "outputs": [
        {
          "output_type": "execute_result",
          "data": {
            "text/plain": [
              "'world'"
            ],
            "application/vnd.google.colaboratory.intrinsic+json": {
              "type": "string"
            }
          },
          "metadata": {},
          "execution_count": 48
        }
      ],
      "source": [
        "# Exercise - access and print 'world' in list3\n",
        "elemento = list3[3][1][1]\n",
        "elemento"
      ]
    },
    {
      "cell_type": "markdown",
      "metadata": {
        "id": "ceScFtmhCf61"
      },
      "source": [
        "## 8.4 Afiliación\n",
        "comprobar si algún dato/objeto es un miembro/elemento en la lista dada\n",
        "en y no en operadores booleanos vamos a verificar la membresía"
      ]
    },
    {
      "cell_type": "code",
      "execution_count": 198,
      "metadata": {
        "colab": {
          "base_uri": "https://localhost:8080/"
        },
        "id": "Lbtbz4V_Cf61",
        "outputId": "62a31873-8113-405d-b9d3-1a76c3cb076c"
      },
      "outputs": [
        {
          "output_type": "execute_result",
          "data": {
            "text/plain": [
              "False"
            ]
          },
          "metadata": {},
          "execution_count": 198
        }
      ],
      "source": [
        "horsemen = [\"war\", \"famine\", \"pestilence\", [\"death\"]]\n",
        "'death' in horsemen"
      ]
    },
    {
      "cell_type": "code",
      "execution_count": 199,
      "metadata": {
        "colab": {
          "base_uri": "https://localhost:8080/"
        },
        "id": "R3ndLN7VCf61",
        "outputId": "a187fa08-d381-4c7e-cea6-09d6f2a35a86"
      },
      "outputs": [
        {
          "output_type": "execute_result",
          "data": {
            "text/plain": [
              "True"
            ]
          },
          "metadata": {},
          "execution_count": 199
        }
      ],
      "source": [
        "'War' not in horsemen"
      ]
    },
    {
      "cell_type": "code",
      "execution_count": 200,
      "metadata": {
        "colab": {
          "base_uri": "https://localhost:8080/"
        },
        "id": "AFBg8hctCf61",
        "outputId": "0de5339a-4e55-4c95-dda3-eb4c6157bf39"
      },
      "outputs": [
        {
          "output_type": "execute_result",
          "data": {
            "text/plain": [
              "True"
            ]
          },
          "metadata": {},
          "execution_count": 200
        }
      ],
      "source": [
        "[\"death\"] in horsemen"
      ]
    },
    {
      "cell_type": "markdown",
      "metadata": {
        "id": "eszoNNtJCf62"
      },
      "source": [
        "## 8.5 Listas de desplazamiento\n",
        "for o while loop se puede usar para recorrer cada elemento de una lista"
      ]
    },
    {
      "cell_type": "code",
      "execution_count": 201,
      "metadata": {
        "colab": {
          "base_uri": "https://localhost:8080/"
        },
        "id": "qkLQDKbECf62",
        "outputId": "3650205d-c9d5-4bd9-dda1-c64b9cfef239"
      },
      "outputs": [
        {
          "output_type": "execute_result",
          "data": {
            "text/plain": [
              "['hello', 2.0, 10, [10, ('hi', 'world'), 3.5], (1, 'uno')]"
            ]
          },
          "metadata": {},
          "execution_count": 201
        }
      ],
      "source": [
        "list3"
      ]
    },
    {
      "cell_type": "code",
      "execution_count": 202,
      "metadata": {
        "colab": {
          "base_uri": "https://localhost:8080/"
        },
        "id": "CEvD1yqICf62",
        "outputId": "8066c0c9-8b8e-40b0-c5d6-fea1a4ab9ce3"
      },
      "outputs": [
        {
          "output_type": "stream",
          "name": "stdout",
          "text": [
            "hello\n",
            "2.0\n",
            "10\n",
            "[10, ('hi', 'world'), 3.5]\n",
            "(1, 'uno')\n"
          ]
        }
      ],
      "source": [
        "# common technique; use for loop\n",
        "for i in list3:\n",
        "    print(i)"
      ]
    },
    {
      "cell_type": "code",
      "execution_count": 203,
      "metadata": {
        "colab": {
          "base_uri": "https://localhost:8080/"
        },
        "id": "KC5QxnjICf62",
        "outputId": "2ee99159-540d-465f-f5fb-b58afa83409c"
      },
      "outputs": [
        {
          "output_type": "stream",
          "name": "stdout",
          "text": [
            "hello\n",
            "2.0\n",
            "10\n",
            "10\n",
            "('hi', 'world')\n",
            "3.5\n",
            "1\n",
            "uno\n"
          ]
        }
      ],
      "source": [
        "for item in list3:\n",
        "    if isinstance(item, list) or isinstance(item, tuple):\n",
        "        for l in item:\n",
        "            print(l)\n",
        "    else:\n",
        "        print(item)"
      ]
    },
    {
      "cell_type": "code",
      "execution_count": 205,
      "metadata": {
        "colab": {
          "base_uri": "https://localhost:8080/"
        },
        "id": "ojftXr6sCf62",
        "outputId": "c1338cf7-b991-4293-e0b6-09d28edaf0b2"
      },
      "outputs": [
        {
          "output_type": "stream",
          "name": "stdout",
          "text": [
            "war\n",
            "famine\n",
            "pestilence\n",
            "death\n"
          ]
        }
      ],
      "source": [
        "horsemen = [\"war\", \"famine\", \"pestilence\", \"death\"]\n",
        "for i in [0, 1, 2, 3]:\n",
        "    print(horsemen[i])\n",
        "# better way to do the same thing?"
      ]
    },
    {
      "cell_type": "code",
      "execution_count": 207,
      "metadata": {
        "colab": {
          "base_uri": "https://localhost:8080/"
        },
        "id": "qbTvQeodCf62",
        "outputId": "5bdaa373-d30a-4882-d02c-2772a40ae41a"
      },
      "outputs": [
        {
          "output_type": "stream",
          "name": "stdout",
          "text": [
            "war\n",
            "famine\n",
            "pestilence\n",
            "death\n"
          ]
        }
      ],
      "source": [
        "#print(\"traversing using indices\")\n",
        "for i in range(len(horsemen)):\n",
        "    print(horsemen[i])"
      ]
    },
    {
      "cell_type": "code",
      "execution_count": 208,
      "metadata": {
        "colab": {
          "base_uri": "https://localhost:8080/"
        },
        "id": "iAvcKgC2Cf62",
        "outputId": "2ea10e3e-7546-4e5e-c1e7-ba975abede11"
      },
      "outputs": [
        {
          "output_type": "stream",
          "name": "stdout",
          "text": [
            "war\n",
            "famine\n",
            "pestilence\n",
            "death\n"
          ]
        }
      ],
      "source": [
        "#print('traversing each element')\n",
        "for ele in horsemen:\n",
        "    print(ele)"
      ]
    },
    {
      "cell_type": "markdown",
      "metadata": {
        "id": "PPNFv6otCf62"
      },
      "source": [
        "## 8.6 operadores de lista\n",
        "- El operador \\+ concatena dos listas y da una lista más grande\n",
        "- El operador \\* repite una lista de elementos un número dado de veces"
      ]
    },
    {
      "cell_type": "code",
      "execution_count": 209,
      "metadata": {
        "colab": {
          "base_uri": "https://localhost:8080/"
        },
        "id": "X5ZLqR8tCf7G",
        "outputId": "e721d4d8-6c2e-4981-90ee-0ff0df7cd6ce"
      },
      "outputs": [
        {
          "output_type": "execute_result",
          "data": {
            "text/plain": [
              "['spam', 'bungee', 'swallow']"
            ]
          },
          "metadata": {},
          "execution_count": 209
        }
      ],
      "source": [
        "list2"
      ]
    },
    {
      "cell_type": "code",
      "execution_count": 210,
      "metadata": {
        "colab": {
          "base_uri": "https://localhost:8080/"
        },
        "id": "zq8WmJvBCf7G",
        "outputId": "8672f349-93d1-415d-b3e3-5129ffd7723f"
      },
      "outputs": [
        {
          "output_type": "execute_result",
          "data": {
            "text/plain": [
              "['hello', 2.0, 10, [10, ('hi', 'world'), 3.5], (1, 'uno')]"
            ]
          },
          "metadata": {},
          "execution_count": 210
        }
      ],
      "source": [
        "list3"
      ]
    },
    {
      "cell_type": "code",
      "execution_count": 211,
      "metadata": {
        "id": "ZMmKHV8WCf7H"
      },
      "outputs": [],
      "source": [
        "list4 = list2 + list3"
      ]
    },
    {
      "cell_type": "code",
      "execution_count": 212,
      "metadata": {
        "colab": {
          "base_uri": "https://localhost:8080/"
        },
        "id": "TCXvWuqxCf7H",
        "outputId": "f3f1dc20-328e-4d19-8635-ecdb2ab484bd"
      },
      "outputs": [
        {
          "output_type": "execute_result",
          "data": {
            "text/plain": [
              "['spam',\n",
              " 'bungee',\n",
              " 'swallow',\n",
              " 'hello',\n",
              " 2.0,\n",
              " 10,\n",
              " [10, ('hi', 'world'), 3.5],\n",
              " (1, 'uno')]"
            ]
          },
          "metadata": {},
          "execution_count": 212
        }
      ],
      "source": [
        "list4"
      ]
    },
    {
      "cell_type": "code",
      "execution_count": 213,
      "metadata": {
        "colab": {
          "base_uri": "https://localhost:8080/"
        },
        "id": "XaSHFBzOCf7H",
        "outputId": "15d6bc2b-ea84-40de-e433-839bf9743d56"
      },
      "outputs": [
        {
          "output_type": "execute_result",
          "data": {
            "text/plain": [
              "[0, 0, 0, 0, 0, 0, 0, 0, 0, 0]"
            ]
          },
          "metadata": {},
          "execution_count": 213
        }
      ],
      "source": [
        "[0]*10"
      ]
    },
    {
      "cell_type": "code",
      "execution_count": 214,
      "metadata": {
        "id": "WdKXJ3Z7Cf7H"
      },
      "outputs": [],
      "source": [
        "a = [1, 2, 3]*4"
      ]
    },
    {
      "cell_type": "code",
      "execution_count": 215,
      "metadata": {
        "colab": {
          "base_uri": "https://localhost:8080/"
        },
        "id": "awvt-VSzCf7H",
        "outputId": "f0b03c53-c55b-43a7-fa51-412f644572bd"
      },
      "outputs": [
        {
          "output_type": "execute_result",
          "data": {
            "text/plain": [
              "[1, 2, 3, 1, 2, 3, 1, 2, 3, 1, 2, 3]"
            ]
          },
          "metadata": {},
          "execution_count": 215
        }
      ],
      "source": [
        "a"
      ]
    },
    {
      "cell_type": "code",
      "execution_count": 217,
      "metadata": {
        "id": "nIQuMQRrCf7H"
      },
      "outputs": [],
      "source": [
        "b = [a]*3"
      ]
    },
    {
      "cell_type": "code",
      "execution_count": 218,
      "metadata": {
        "colab": {
          "base_uri": "https://localhost:8080/"
        },
        "id": "Kok7JdgMCf7H",
        "outputId": "c5cf0e87-293b-4a0c-a7bd-ec6e90e1fd32"
      },
      "outputs": [
        {
          "output_type": "execute_result",
          "data": {
            "text/plain": [
              "[[1, 2, 3, 1, 2, 3, 1, 2, 3, 1, 2, 3],\n",
              " [1, 2, 3, 1, 2, 3, 1, 2, 3, 1, 2, 3],\n",
              " [1, 2, 3, 1, 2, 3, 1, 2, 3, 1, 2, 3]]"
            ]
          },
          "metadata": {},
          "execution_count": 218
        }
      ],
      "source": [
        "b"
      ]
    },
    {
      "cell_type": "code",
      "execution_count": 219,
      "metadata": {
        "id": "DH1uL-BpCf7I"
      },
      "outputs": [],
      "source": [
        "# 2-D list or matrix\n",
        "matrix = [[1, 2], [3, 4], [5, 6]]"
      ]
    },
    {
      "cell_type": "code",
      "execution_count": 220,
      "metadata": {
        "colab": {
          "base_uri": "https://localhost:8080/"
        },
        "id": "ISSiB4aeCf7I",
        "outputId": "7d061f89-d6d4-4f3e-d909-ab74ba69ecd8"
      },
      "outputs": [
        {
          "output_type": "stream",
          "name": "stdout",
          "text": [
            "[[1, 2], [3, 4], [5, 6]]\n"
          ]
        }
      ],
      "source": [
        "print(matrix)"
      ]
    },
    {
      "cell_type": "code",
      "execution_count": 221,
      "metadata": {
        "colab": {
          "base_uri": "https://localhost:8080/"
        },
        "id": "vQZi7OcwCf7I",
        "outputId": "9f5b3cba-9d57-4b8b-9728-a5ed7d9c15a9"
      },
      "outputs": [
        {
          "output_type": "execute_result",
          "data": {
            "text/plain": [
              "[[1, 2], [3, 4], [5, 6]]"
            ]
          },
          "metadata": {},
          "execution_count": 221
        }
      ],
      "source": [
        "matrix"
      ]
    },
    {
      "cell_type": "code",
      "execution_count": 222,
      "metadata": {
        "id": "_sZ94co6Cf7I"
      },
      "outputs": [],
      "source": [
        "# How do you replace 5 with 50 in matrix?\n",
        "matrix[2][0] = 50"
      ]
    },
    {
      "cell_type": "markdown",
      "source": [],
      "metadata": {
        "id": "fGNXgc-zI6gL"
      }
    },
    {
      "cell_type": "code",
      "execution_count": 223,
      "metadata": {
        "colab": {
          "base_uri": "https://localhost:8080/"
        },
        "id": "5QsmE0wwCf7I",
        "outputId": "51961912-bb25-4db4-d1da-452b7d6415e5"
      },
      "outputs": [
        {
          "output_type": "execute_result",
          "data": {
            "text/plain": [
              "[[1, 2], [3, 4], [50, 6]]"
            ]
          },
          "metadata": {},
          "execution_count": 223
        }
      ],
      "source": [
        "matrix"
      ]
    },
    {
      "cell_type": "markdown",
      "metadata": {
        "id": "RPw2vUrkCf7I"
      },
      "source": [
        "## 8.7 Listas de corte\n",
        "todas las operaciones de división que funcionan con cadenas también funcionan con listas\n",
        "\n",
        "sintaxis: [startIndex : endIndex : paso]\n",
        "\n",
        "startIndex es inclusivo; endIndex es exclusivo;\n",
        "el paso es opcional por defecto"
      ]
    },
    {
      "cell_type": "code",
      "execution_count": 224,
      "metadata": {
        "id": "Z3Qgh0JsCf7J"
      },
      "outputs": [],
      "source": [
        "# create a list of lower-case alphabets\n",
        "alphas = ['a', 'b', 'c', 'd', 'e', 'f', 'g'] # add the rest..."
      ]
    },
    {
      "cell_type": "code",
      "execution_count": 225,
      "metadata": {
        "colab": {
          "base_uri": "https://localhost:8080/"
        },
        "id": "-iRa-BEDCf7K",
        "outputId": "1adc4c4c-de5b-4357-e04b-cb0dd2dc824a"
      },
      "outputs": [
        {
          "output_type": "execute_result",
          "data": {
            "text/plain": [
              "['a', 'b', 'c', 'd', 'e', 'f', 'g']"
            ]
          },
          "metadata": {},
          "execution_count": 225
        }
      ],
      "source": [
        "alphas"
      ]
    },
    {
      "cell_type": "code",
      "execution_count": 226,
      "metadata": {
        "id": "abgbSJ7MCf7K"
      },
      "outputs": [],
      "source": [
        "# there's better way to create lists of all lowercase ascii\n",
        "import string\n",
        "alphas = list(string.ascii_lowercase)"
      ]
    },
    {
      "cell_type": "code",
      "execution_count": 227,
      "metadata": {
        "colab": {
          "base_uri": "https://localhost:8080/"
        },
        "id": "UaURRzPlCf7K",
        "outputId": "4292433a-0311-4c2e-f295-cf800df5ca77"
      },
      "outputs": [
        {
          "output_type": "stream",
          "name": "stdout",
          "text": [
            "['a', 'b', 'c', 'd', 'e', 'f', 'g', 'h', 'i', 'j', 'k', 'l', 'm', 'n', 'o', 'p', 'q', 'r', 's', 't', 'u', 'v', 'w', 'x', 'y', 'z']\n"
          ]
        }
      ],
      "source": [
        "print(alphas[:])"
      ]
    },
    {
      "cell_type": "code",
      "execution_count": 228,
      "metadata": {
        "colab": {
          "base_uri": "https://localhost:8080/"
        },
        "id": "BEDhQLukCf7L",
        "outputId": "533c35d0-ca55-4b5a-9ee1-af888987f1d7"
      },
      "outputs": [
        {
          "output_type": "stream",
          "name": "stdout",
          "text": [
            "['a', 'd', 'g', 'j', 'm', 'p', 's', 'v', 'y']\n"
          ]
        }
      ],
      "source": [
        "print(alphas[::3])"
      ]
    },
    {
      "cell_type": "code",
      "execution_count": 229,
      "metadata": {
        "colab": {
          "base_uri": "https://localhost:8080/"
        },
        "id": "SvH3NmfWCf7L",
        "outputId": "e64b51be-b480-474f-bd0a-927cad7f4457"
      },
      "outputs": [
        {
          "output_type": "stream",
          "name": "stdout",
          "text": [
            "['b', 'c']\n"
          ]
        }
      ],
      "source": [
        "print(alphas[1:3])"
      ]
    },
    {
      "cell_type": "code",
      "execution_count": 230,
      "metadata": {
        "colab": {
          "base_uri": "https://localhost:8080/"
        },
        "id": "rcymDANPCf7L",
        "outputId": "2330b788-1834-4efe-c0bf-dbd0cc277e7b"
      },
      "outputs": [
        {
          "output_type": "stream",
          "name": "stdout",
          "text": [
            "['z', 'y', 'x', 'w', 'v', 'u', 't', 's', 'r', 'q', 'p', 'o', 'n', 'm', 'l', 'k', 'j', 'i', 'h', 'g', 'f', 'e', 'd', 'c', 'b', 'a']\n"
          ]
        }
      ],
      "source": [
        "print(alphas[::-1])"
      ]
    },
    {
      "cell_type": "markdown",
      "metadata": {
        "id": "OqPzuZpnCf7M"
      },
      "source": [
        "## 8.8 Lists and strings\n",
        "- match made in heaven - work together really well :)"
      ]
    },
    {
      "cell_type": "code",
      "execution_count": 231,
      "metadata": {
        "id": "32k8xg4ICf7M"
      },
      "outputs": [],
      "source": [
        "# convert string to list of characters\n",
        "alphaList = list(string.ascii_lowercase)"
      ]
    },
    {
      "cell_type": "code",
      "execution_count": 232,
      "metadata": {
        "colab": {
          "base_uri": "https://localhost:8080/"
        },
        "id": "bKyuDFCICf7M",
        "outputId": "11dd8bd8-170e-42bf-b9c6-48c64cc1a5cc"
      },
      "outputs": [
        {
          "output_type": "execute_result",
          "data": {
            "text/plain": [
              "['a',\n",
              " 'b',\n",
              " 'c',\n",
              " 'd',\n",
              " 'e',\n",
              " 'f',\n",
              " 'g',\n",
              " 'h',\n",
              " 'i',\n",
              " 'j',\n",
              " 'k',\n",
              " 'l',\n",
              " 'm',\n",
              " 'n',\n",
              " 'o',\n",
              " 'p',\n",
              " 'q',\n",
              " 'r',\n",
              " 's',\n",
              " 't',\n",
              " 'u',\n",
              " 'v',\n",
              " 'w',\n",
              " 'x',\n",
              " 'y',\n",
              " 'z']"
            ]
          },
          "metadata": {},
          "execution_count": 232
        }
      ],
      "source": [
        "alphaList"
      ]
    },
    {
      "cell_type": "code",
      "execution_count": 84,
      "metadata": {
        "id": "Wltx4hijCf7M"
      },
      "outputs": [],
      "source": [
        "# convert list to string by joining pairs of chars with a delimiter\n",
        "alphaStr = '|'.join(alphaList)"
      ]
    },
    {
      "cell_type": "code",
      "execution_count": 233,
      "metadata": {
        "colab": {
          "base_uri": "https://localhost:8080/",
          "height": 36
        },
        "id": "oCmykDeZCf7M",
        "outputId": "cfbe5725-3e60-4e76-9ca6-4546178d5149"
      },
      "outputs": [
        {
          "output_type": "execute_result",
          "data": {
            "text/plain": [
              "'a|b|c|d|e|f|g|h|i|j|k|l|m|n|o|p|q|r|s|t|u|v|w|x|y|z'"
            ],
            "application/vnd.google.colaboratory.intrinsic+json": {
              "type": "string"
            }
          },
          "metadata": {},
          "execution_count": 233
        }
      ],
      "source": [
        "alphaStr"
      ]
    },
    {
      "cell_type": "markdown",
      "metadata": {
        "id": "LmTvDwJ7Cf7N"
      },
      "source": [
        "## 8.9 las listas son mutables\n",
        "podemos cambiar/reemplazar/actualizar los elementos de la lista en su lugar"
      ]
    },
    {
      "cell_type": "code",
      "execution_count": 234,
      "metadata": {
        "id": "bnJQRhnaCf7N"
      },
      "outputs": [],
      "source": [
        "names = [\"john\", \"David\", \"Alice\"]\n",
        "names[0] = \"jake\""
      ]
    },
    {
      "cell_type": "code",
      "execution_count": 235,
      "metadata": {
        "colab": {
          "base_uri": "https://localhost:8080/"
        },
        "id": "jdAMy2ZoCf7N",
        "outputId": "619f0604-decb-4ab7-c76a-8b45fa8d93f4"
      },
      "outputs": [
        {
          "output_type": "execute_result",
          "data": {
            "text/plain": [
              "['jake', 'David', 'Alice']"
            ]
          },
          "metadata": {},
          "execution_count": 235
        }
      ],
      "source": [
        "names"
      ]
    },
    {
      "cell_type": "code",
      "execution_count": 237,
      "metadata": {
        "colab": {
          "base_uri": "https://localhost:8080/",
          "height": 36
        },
        "id": "oCVHByCCCf7N",
        "outputId": "9084af68-5a8b-4446-d4ce-229cc6877d9f"
      },
      "outputs": [
        {
          "output_type": "execute_result",
          "data": {
            "text/plain": [
              "'k'"
            ],
            "application/vnd.google.colaboratory.intrinsic+json": {
              "type": "string"
            }
          },
          "metadata": {},
          "execution_count": 237
        }
      ],
      "source": [
        "# How to correct spelling of jake?\n",
        "names[0][2]"
      ]
    },
    {
      "cell_type": "code",
      "execution_count": 240,
      "metadata": {
        "colab": {
          "base_uri": "https://localhost:8080/",
          "height": 165
        },
        "id": "wg2bx9z5Cf7O",
        "outputId": "470568d6-92ee-4eee-eb28-c4a257ec2424"
      },
      "outputs": [
        {
          "output_type": "error",
          "ename": "TypeError",
          "evalue": "ignored",
          "traceback": [
            "\u001b[0;31m---------------------------------------------------------------------------\u001b[0m",
            "\u001b[0;31mTypeError\u001b[0m                                 Traceback (most recent call last)",
            "\u001b[0;32m<ipython-input-240-a7f053b034e3>\u001b[0m in \u001b[0;36m<cell line: 1>\u001b[0;34m()\u001b[0m\n\u001b[0;32m----> 1\u001b[0;31m \u001b[0mnames\u001b[0m\u001b[0;34m[\u001b[0m\u001b[0;36m0\u001b[0m\u001b[0;34m]\u001b[0m\u001b[0;34m[\u001b[0m\u001b[0;36m0\u001b[0m\u001b[0;34m]\u001b[0m \u001b[0;34m=\u001b[0m \u001b[0;36m2\u001b[0m\u001b[0;34m\u001b[0m\u001b[0;34m\u001b[0m\u001b[0m\n\u001b[0m",
            "\u001b[0;31mTypeError\u001b[0m: 'str' object does not support item assignment"
          ]
        }
      ],
      "source": [
        "names[0][0] = 'j'"
      ]
    },
    {
      "cell_type": "code",
      "execution_count": 241,
      "metadata": {
        "id": "FeZ8a5X6Cf7O"
      },
      "outputs": [],
      "source": [
        "names[0] = 'Jake'"
      ]
    },
    {
      "cell_type": "code",
      "execution_count": 242,
      "metadata": {
        "colab": {
          "base_uri": "https://localhost:8080/"
        },
        "id": "4KKAUxFfCf7O",
        "outputId": "a711f5f3-0109-4d2b-b6f1-806a28307b31"
      },
      "outputs": [
        {
          "output_type": "execute_result",
          "data": {
            "text/plain": [
              "['Jake', 'David', 'Alice']"
            ]
          },
          "metadata": {},
          "execution_count": 242
        }
      ],
      "source": [
        "names"
      ]
    },
    {
      "cell_type": "code",
      "execution_count": 243,
      "metadata": {
        "colab": {
          "base_uri": "https://localhost:8080/"
        },
        "id": "rSXe5iHNCf7O",
        "outputId": "6bb4050c-43a7-4c4a-b3fa-c88ee159eda7"
      },
      "outputs": [
        {
          "output_type": "execute_result",
          "data": {
            "text/plain": [
              "['a',\n",
              " 'b',\n",
              " 'c',\n",
              " 'd',\n",
              " 'e',\n",
              " 'f',\n",
              " 'g',\n",
              " 'h',\n",
              " 'i',\n",
              " 'j',\n",
              " 'k',\n",
              " 'l',\n",
              " 'm',\n",
              " 'n',\n",
              " 'o',\n",
              " 'p',\n",
              " 'q',\n",
              " 'r',\n",
              " 's',\n",
              " 't',\n",
              " 'u',\n",
              " 'v',\n",
              " 'w',\n",
              " 'x',\n",
              " 'y',\n",
              " 'z']"
            ]
          },
          "metadata": {},
          "execution_count": 243
        }
      ],
      "source": [
        "alphas"
      ]
    },
    {
      "cell_type": "code",
      "execution_count": 244,
      "metadata": {
        "id": "9teWDuPSCf7P"
      },
      "outputs": [],
      "source": [
        "alphas[:4] = ['A', 'B', 'C', 'D']"
      ]
    },
    {
      "cell_type": "code",
      "execution_count": 245,
      "metadata": {
        "colab": {
          "base_uri": "https://localhost:8080/"
        },
        "id": "PGHRJhgSCf7P",
        "outputId": "923c4afb-712b-4cc3-90ed-13592a5ac0c4"
      },
      "outputs": [
        {
          "output_type": "execute_result",
          "data": {
            "text/plain": [
              "['A',\n",
              " 'B',\n",
              " 'C',\n",
              " 'D',\n",
              " 'e',\n",
              " 'f',\n",
              " 'g',\n",
              " 'h',\n",
              " 'i',\n",
              " 'j',\n",
              " 'k',\n",
              " 'l',\n",
              " 'm',\n",
              " 'n',\n",
              " 'o',\n",
              " 'p',\n",
              " 'q',\n",
              " 'r',\n",
              " 's',\n",
              " 't',\n",
              " 'u',\n",
              " 'v',\n",
              " 'w',\n",
              " 'x',\n",
              " 'y',\n",
              " 'z']"
            ]
          },
          "metadata": {},
          "execution_count": 245
        }
      ],
      "source": [
        "alphas"
      ]
    },
    {
      "cell_type": "code",
      "execution_count": 246,
      "metadata": {
        "id": "RTXG0PR7Cf7P"
      },
      "outputs": [],
      "source": [
        "alphas[:4] = []"
      ]
    },
    {
      "cell_type": "code",
      "execution_count": 98,
      "metadata": {
        "colab": {
          "base_uri": "https://localhost:8080/"
        },
        "id": "33NUzFckCf7P",
        "outputId": "4f1c4ea0-29f6-4383-ef42-a367384db0f2"
      },
      "outputs": [
        {
          "output_type": "execute_result",
          "data": {
            "text/plain": [
              "['e',\n",
              " 'f',\n",
              " 'g',\n",
              " 'h',\n",
              " 'i',\n",
              " 'j',\n",
              " 'k',\n",
              " 'l',\n",
              " 'm',\n",
              " 'n',\n",
              " 'o',\n",
              " 'p',\n",
              " 'q',\n",
              " 'r',\n",
              " 's',\n",
              " 't',\n",
              " 'u',\n",
              " 'v',\n",
              " 'w',\n",
              " 'x',\n",
              " 'y',\n",
              " 'z']"
            ]
          },
          "metadata": {},
          "execution_count": 98
        }
      ],
      "source": [
        "alphas"
      ]
    },
    {
      "cell_type": "markdown",
      "metadata": {
        "id": "fB3wSY44Cf7P"
      },
      "source": [
        "## 8.10 Eliminación de elementos de la lista\n",
        "- la instrucción del elimina un elemento de una lista dado su índice"
      ]
    },
    {
      "cell_type": "code",
      "execution_count": 247,
      "metadata": {
        "colab": {
          "base_uri": "https://localhost:8080/"
        },
        "id": "kHB93O6nCf7P",
        "outputId": "be6763b0-c39c-478e-8fd9-a26872009a9d"
      },
      "outputs": [
        {
          "output_type": "execute_result",
          "data": {
            "text/plain": [
              "['e',\n",
              " 'f',\n",
              " 'g',\n",
              " 'h',\n",
              " 'i',\n",
              " 'j',\n",
              " 'k',\n",
              " 'l',\n",
              " 'm',\n",
              " 'n',\n",
              " 'o',\n",
              " 'p',\n",
              " 'q',\n",
              " 'r',\n",
              " 's',\n",
              " 't',\n",
              " 'u',\n",
              " 'v',\n",
              " 'w',\n",
              " 'x',\n",
              " 'y',\n",
              " 'z']"
            ]
          },
          "metadata": {},
          "execution_count": 247
        }
      ],
      "source": [
        "alphas"
      ]
    },
    {
      "cell_type": "code",
      "execution_count": 248,
      "metadata": {
        "id": "B80xoYFNCf7P"
      },
      "outputs": [],
      "source": [
        "del alphas[0]"
      ]
    },
    {
      "cell_type": "code",
      "execution_count": 252,
      "metadata": {
        "colab": {
          "base_uri": "https://localhost:8080/"
        },
        "id": "NQky0t9rCf7P",
        "outputId": "027ba548-445c-4439-a320-ef13787f7602"
      },
      "outputs": [
        {
          "output_type": "execute_result",
          "data": {
            "text/plain": [
              "['f',\n",
              " 'g',\n",
              " 'h',\n",
              " 'i',\n",
              " 'j',\n",
              " 'k',\n",
              " 'l',\n",
              " 'm',\n",
              " 'n',\n",
              " 'o',\n",
              " 'p',\n",
              " 'q',\n",
              " 'r',\n",
              " 's',\n",
              " 't',\n",
              " 'u',\n",
              " 'v',\n",
              " 'w',\n",
              " 'x',\n",
              " 'y']"
            ]
          },
          "metadata": {},
          "execution_count": 252
        }
      ],
      "source": [
        "alphas"
      ]
    },
    {
      "cell_type": "code",
      "execution_count": 251,
      "metadata": {
        "id": "qi_0x8R9Cf7P"
      },
      "outputs": [],
      "source": [
        "del alphas[20]"
      ]
    },
    {
      "cell_type": "code",
      "execution_count": 253,
      "metadata": {
        "colab": {
          "base_uri": "https://localhost:8080/"
        },
        "id": "7xNB3wmoCf7P",
        "outputId": "d543cbe9-1216-4162-ef1c-397ff831f342"
      },
      "outputs": [
        {
          "output_type": "execute_result",
          "data": {
            "text/plain": [
              "19"
            ]
          },
          "metadata": {},
          "execution_count": 253
        }
      ],
      "source": [
        "alphas.index('y')"
      ]
    },
    {
      "cell_type": "code",
      "execution_count": 254,
      "metadata": {
        "colab": {
          "base_uri": "https://localhost:8080/"
        },
        "id": "wZNMAZ7_Cf7Q",
        "outputId": "5c301cce-7f9c-43cf-85df-664c40d441fd"
      },
      "outputs": [
        {
          "output_type": "execute_result",
          "data": {
            "text/plain": [
              "19"
            ]
          },
          "metadata": {},
          "execution_count": 254
        }
      ],
      "source": [
        "alphas.index(alphas[-1])"
      ]
    },
    {
      "cell_type": "code",
      "execution_count": 255,
      "metadata": {
        "id": "GUCOMZefCf7Q"
      },
      "outputs": [],
      "source": [
        "del alphas[1:3]"
      ]
    },
    {
      "cell_type": "code",
      "execution_count": 256,
      "metadata": {
        "colab": {
          "base_uri": "https://localhost:8080/"
        },
        "id": "MP2U99ZyCf7Q",
        "outputId": "a28c721e-13f1-4a21-bf6e-c9cdef4bad34"
      },
      "outputs": [
        {
          "output_type": "execute_result",
          "data": {
            "text/plain": [
              "['f',\n",
              " 'i',\n",
              " 'j',\n",
              " 'k',\n",
              " 'l',\n",
              " 'm',\n",
              " 'n',\n",
              " 'o',\n",
              " 'p',\n",
              " 'q',\n",
              " 'r',\n",
              " 's',\n",
              " 't',\n",
              " 'u',\n",
              " 'v',\n",
              " 'w',\n",
              " 'x',\n",
              " 'y']"
            ]
          },
          "metadata": {},
          "execution_count": 256
        }
      ],
      "source": [
        "alphas"
      ]
    },
    {
      "cell_type": "code",
      "execution_count": 258,
      "metadata": {
        "id": "bC5iWsEhCf7Q"
      },
      "outputs": [],
      "source": [
        "indexOfZ = alphas.index('y')\n",
        "del alphas[indexOfZ]"
      ]
    },
    {
      "cell_type": "code",
      "execution_count": 259,
      "metadata": {
        "colab": {
          "base_uri": "https://localhost:8080/"
        },
        "id": "ptkqFkPtCf7Q",
        "outputId": "1ddc9b53-1864-4d92-cb90-a8c1504f0177"
      },
      "outputs": [
        {
          "output_type": "stream",
          "name": "stdout",
          "text": [
            "['f', 'i', 'j', 'k', 'l', 'm', 'n', 'o', 'p', 'q', 'r', 's', 't', 'u', 'v', 'w', 'x']\n"
          ]
        }
      ],
      "source": [
        "print(alphas)"
      ]
    },
    {
      "cell_type": "markdown",
      "metadata": {
        "id": "q9HHbuZFCf7Q"
      },
      "source": [
        "## 8.11 Objetos y referencias\n",
        "- El operador **is** se puede usar para probar si dos objetos hacen referencia a la misma ubicación de memoria\n",
        "     - lo que significa que son esencialmente el mismo objeto con los mismos valores"
      ]
    },
    {
      "cell_type": "code",
      "execution_count": 260,
      "metadata": {
        "colab": {
          "base_uri": "https://localhost:8080/"
        },
        "id": "sxQjndJUCf7Q",
        "outputId": "a240e311-35ef-40a4-fe8c-7e74e23ef21a"
      },
      "outputs": [
        {
          "output_type": "execute_result",
          "data": {
            "text/plain": [
              "True"
            ]
          },
          "metadata": {},
          "execution_count": 260
        }
      ],
      "source": [
        "# even though a and b are two separate objects is still evaluates to True\n",
        "a = 'apple'\n",
        "b = 'apple'\n",
        "a is b"
      ]
    },
    {
      "cell_type": "code",
      "execution_count": 261,
      "metadata": {
        "colab": {
          "base_uri": "https://localhost:8080/"
        },
        "id": "E5-Bbn_MCf7Q",
        "outputId": "da056c1d-ee67-453c-fbb7-fe76828e2a7f"
      },
      "outputs": [
        {
          "output_type": "execute_result",
          "data": {
            "text/plain": [
              "True"
            ]
          },
          "metadata": {},
          "execution_count": 261
        }
      ],
      "source": [
        "# even though c and d are two separate objects is still evaluates to True\n",
        "c = 10\n",
        "d = 10\n",
        "c is d"
      ]
    },
    {
      "cell_type": "code",
      "execution_count": 262,
      "metadata": {
        "colab": {
          "base_uri": "https://localhost:8080/"
        },
        "id": "ToDgvX26Cf7Q",
        "outputId": "44bf9936-3c74-4d49-8b48-f066867c99b5"
      },
      "outputs": [
        {
          "output_type": "stream",
          "name": "stdout",
          "text": [
            "True\n",
            "False\n"
          ]
        }
      ],
      "source": [
        "# what abut tuple?\n",
        "e = (1, 2)\n",
        "f = (1, 2)\n",
        "print(e == f)\n",
        "print(e is f)"
      ]
    },
    {
      "cell_type": "code",
      "execution_count": 263,
      "metadata": {
        "colab": {
          "base_uri": "https://localhost:8080/"
        },
        "id": "3Tm0FaWoCf7Q",
        "outputId": "6bd6fedc-8065-4707-ffe3-8e32d34e1107"
      },
      "outputs": [
        {
          "output_type": "stream",
          "name": "stdout",
          "text": [
            "True\n",
            "False\n"
          ]
        }
      ],
      "source": [
        "# What about lists?\n",
        "l1 = [1, 2, 3]\n",
        "l2 = [1, 2, 3]\n",
        "print(l1 == l2)\n",
        "print(l1 is l2)"
      ]
    },
    {
      "cell_type": "markdown",
      "metadata": {
        "id": "CEY6RDoiCf7Q"
      },
      "source": [
        "## 8.12 Copying lists (Shallow copy vs Deep copy)\n",
        "- see [PythonTutor.com to visualize aliasing](http://pythontutor.com/visualize.html#code=import%20copy%0A%0Aa%20%3D%20%5B1,%20%5B2,%203%5D%5D%0Ab%20%3D%20a%0Ac%20%3D%20a.copy%28%29%0Ad%20%3D%20a%5B%3A%5D%0Af%20%3D%20copy.deepcopy%28a%29&cumulative=false&curInstr=0&heapPrimitives=false&mode=display&origin=opt-frontend.js&py=3&rawInputLstJSON=%5B%5D&textReferences=false)\n",
        "- assignment *=* operator does shallow copy"
      ]
    },
    {
      "cell_type": "code",
      "execution_count": 264,
      "metadata": {
        "colab": {
          "base_uri": "https://localhost:8080/"
        },
        "id": "rsBAsEplCf7R",
        "outputId": "3928dca9-77d8-4fa3-c247-3b63f402a9c3"
      },
      "outputs": [
        {
          "output_type": "stream",
          "name": "stdout",
          "text": [
            "True\n",
            "True\n"
          ]
        }
      ],
      "source": [
        "a = [1, 2, 3]\n",
        "b = a\n",
        "print(a is b)\n",
        "print(a == b)"
      ]
    },
    {
      "cell_type": "code",
      "execution_count": 114,
      "metadata": {
        "colab": {
          "base_uri": "https://localhost:8080/"
        },
        "id": "SSuCRT8UCf7R",
        "outputId": "e117e911-37eb-4653-8b7e-6e020adb2524"
      },
      "outputs": [
        {
          "output_type": "stream",
          "name": "stdout",
          "text": [
            "[10, 2, 3]\n",
            "[10, 2, 3]\n"
          ]
        }
      ],
      "source": [
        "b[0] = 10\n",
        "print(a)\n",
        "print(b)"
      ]
    },
    {
      "cell_type": "code",
      "execution_count": 265,
      "metadata": {
        "id": "1qMKpA8SCf7R"
      },
      "outputs": [],
      "source": [
        "# How do you actually clone lists - do a deep copy?\n",
        "c = a[:] # easy way shallow copy\n",
        "d = a.copy() # shallow copy\n",
        "import copy\n",
        "e = copy.deepcopy(b)"
      ]
    },
    {
      "cell_type": "code",
      "execution_count": 266,
      "metadata": {
        "colab": {
          "base_uri": "https://localhost:8080/"
        },
        "id": "nsZsPgDZCf7R",
        "outputId": "24a046ed-ae30-4c78-a59d-0b9a902fbee1"
      },
      "outputs": [
        {
          "output_type": "execute_result",
          "data": {
            "text/plain": [
              "False"
            ]
          },
          "metadata": {},
          "execution_count": 266
        }
      ],
      "source": [
        "c is a"
      ]
    },
    {
      "cell_type": "code",
      "execution_count": 267,
      "metadata": {
        "colab": {
          "base_uri": "https://localhost:8080/"
        },
        "id": "rm7I2iEmCf7R",
        "outputId": "ebccb55e-8449-4911-b726-996577a6cb96"
      },
      "outputs": [
        {
          "output_type": "execute_result",
          "data": {
            "text/plain": [
              "False"
            ]
          },
          "metadata": {},
          "execution_count": 267
        }
      ],
      "source": [
        "d is a"
      ]
    },
    {
      "cell_type": "code",
      "execution_count": 268,
      "metadata": {
        "colab": {
          "base_uri": "https://localhost:8080/"
        },
        "id": "kaIUSUWcCf7R",
        "outputId": "80973709-408a-4b1d-8e1d-a070ff80d3b5"
      },
      "outputs": [
        {
          "output_type": "execute_result",
          "data": {
            "text/plain": [
              "False"
            ]
          },
          "metadata": {},
          "execution_count": 268
        }
      ],
      "source": [
        "b is e"
      ]
    },
    {
      "cell_type": "markdown",
      "metadata": {
        "id": "jX2Hud3BCf7R"
      },
      "source": [
        "## 8.13 List methods\n",
        "- list objects have a bunch methods that can be invoked to work with list\n",
        "- run help(list)"
      ]
    },
    {
      "cell_type": "code",
      "execution_count": 269,
      "metadata": {
        "colab": {
          "base_uri": "https://localhost:8080/"
        },
        "id": "PDfQCnX3Cf7R",
        "outputId": "1b3d5fd8-1952-44b0-f82d-6777029e98dd"
      },
      "outputs": [
        {
          "output_type": "stream",
          "name": "stdout",
          "text": [
            "Help on class list in module builtins:\n",
            "\n",
            "class list(object)\n",
            " |  list(iterable=(), /)\n",
            " |  \n",
            " |  Built-in mutable sequence.\n",
            " |  \n",
            " |  If no argument is given, the constructor creates a new empty list.\n",
            " |  The argument must be an iterable if specified.\n",
            " |  \n",
            " |  Methods defined here:\n",
            " |  \n",
            " |  __add__(self, value, /)\n",
            " |      Return self+value.\n",
            " |  \n",
            " |  __contains__(self, key, /)\n",
            " |      Return key in self.\n",
            " |  \n",
            " |  __delitem__(self, key, /)\n",
            " |      Delete self[key].\n",
            " |  \n",
            " |  __eq__(self, value, /)\n",
            " |      Return self==value.\n",
            " |  \n",
            " |  __ge__(self, value, /)\n",
            " |      Return self>=value.\n",
            " |  \n",
            " |  __getattribute__(self, name, /)\n",
            " |      Return getattr(self, name).\n",
            " |  \n",
            " |  __getitem__(...)\n",
            " |      x.__getitem__(y) <==> x[y]\n",
            " |  \n",
            " |  __gt__(self, value, /)\n",
            " |      Return self>value.\n",
            " |  \n",
            " |  __iadd__(self, value, /)\n",
            " |      Implement self+=value.\n",
            " |  \n",
            " |  __imul__(self, value, /)\n",
            " |      Implement self*=value.\n",
            " |  \n",
            " |  __init__(self, /, *args, **kwargs)\n",
            " |      Initialize self.  See help(type(self)) for accurate signature.\n",
            " |  \n",
            " |  __iter__(self, /)\n",
            " |      Implement iter(self).\n",
            " |  \n",
            " |  __le__(self, value, /)\n",
            " |      Return self<=value.\n",
            " |  \n",
            " |  __len__(self, /)\n",
            " |      Return len(self).\n",
            " |  \n",
            " |  __lt__(self, value, /)\n",
            " |      Return self<value.\n",
            " |  \n",
            " |  __mul__(self, value, /)\n",
            " |      Return self*value.\n",
            " |  \n",
            " |  __ne__(self, value, /)\n",
            " |      Return self!=value.\n",
            " |  \n",
            " |  __repr__(self, /)\n",
            " |      Return repr(self).\n",
            " |  \n",
            " |  __reversed__(self, /)\n",
            " |      Return a reverse iterator over the list.\n",
            " |  \n",
            " |  __rmul__(self, value, /)\n",
            " |      Return value*self.\n",
            " |  \n",
            " |  __setitem__(self, key, value, /)\n",
            " |      Set self[key] to value.\n",
            " |  \n",
            " |  __sizeof__(self, /)\n",
            " |      Return the size of the list in memory, in bytes.\n",
            " |  \n",
            " |  append(self, object, /)\n",
            " |      Append object to the end of the list.\n",
            " |  \n",
            " |  clear(self, /)\n",
            " |      Remove all items from list.\n",
            " |  \n",
            " |  copy(self, /)\n",
            " |      Return a shallow copy of the list.\n",
            " |  \n",
            " |  count(self, value, /)\n",
            " |      Return number of occurrences of value.\n",
            " |  \n",
            " |  extend(self, iterable, /)\n",
            " |      Extend list by appending elements from the iterable.\n",
            " |  \n",
            " |  index(self, value, start=0, stop=9223372036854775807, /)\n",
            " |      Return first index of value.\n",
            " |      \n",
            " |      Raises ValueError if the value is not present.\n",
            " |  \n",
            " |  insert(self, index, object, /)\n",
            " |      Insert object before index.\n",
            " |  \n",
            " |  pop(self, index=-1, /)\n",
            " |      Remove and return item at index (default last).\n",
            " |      \n",
            " |      Raises IndexError if list is empty or index is out of range.\n",
            " |  \n",
            " |  remove(self, value, /)\n",
            " |      Remove first occurrence of value.\n",
            " |      \n",
            " |      Raises ValueError if the value is not present.\n",
            " |  \n",
            " |  reverse(self, /)\n",
            " |      Reverse *IN PLACE*.\n",
            " |  \n",
            " |  sort(self, /, *, key=None, reverse=False)\n",
            " |      Sort the list in ascending order and return None.\n",
            " |      \n",
            " |      The sort is in-place (i.e. the list itself is modified) and stable (i.e. the\n",
            " |      order of two equal elements is maintained).\n",
            " |      \n",
            " |      If a key function is given, apply it once to each list item and sort them,\n",
            " |      ascending or descending, according to their function values.\n",
            " |      \n",
            " |      The reverse flag can be set to sort in descending order.\n",
            " |  \n",
            " |  ----------------------------------------------------------------------\n",
            " |  Class methods defined here:\n",
            " |  \n",
            " |  __class_getitem__(...) from builtins.type\n",
            " |      See PEP 585\n",
            " |  \n",
            " |  ----------------------------------------------------------------------\n",
            " |  Static methods defined here:\n",
            " |  \n",
            " |  __new__(*args, **kwargs) from builtins.type\n",
            " |      Create and return a new object.  See help(type) for accurate signature.\n",
            " |  \n",
            " |  ----------------------------------------------------------------------\n",
            " |  Data and other attributes defined here:\n",
            " |  \n",
            " |  __hash__ = None\n",
            "\n"
          ]
        }
      ],
      "source": [
        "help(list)"
      ]
    },
    {
      "cell_type": "code",
      "execution_count": 271,
      "metadata": {
        "id": "Bk9PxHHWCf7R"
      },
      "outputs": [],
      "source": [
        "a = []\n",
        "a.append(1)\n",
        "a.append(2)\n",
        "a.append([2, 3])"
      ]
    },
    {
      "cell_type": "code",
      "execution_count": 272,
      "metadata": {
        "colab": {
          "base_uri": "https://localhost:8080/"
        },
        "id": "hMQMDOlJCf7R",
        "outputId": "54686705-c104-405f-f5fc-cffde29c38ea"
      },
      "outputs": [
        {
          "output_type": "execute_result",
          "data": {
            "text/plain": [
              "[1, 2, [2, 3]]"
            ]
          },
          "metadata": {},
          "execution_count": 272
        }
      ],
      "source": [
        "a"
      ]
    },
    {
      "cell_type": "code",
      "execution_count": 273,
      "metadata": {
        "id": "HAF-BcWJCf7R"
      },
      "outputs": [],
      "source": [
        "a.extend([3, 4])"
      ]
    },
    {
      "cell_type": "code",
      "execution_count": 274,
      "metadata": {
        "colab": {
          "base_uri": "https://localhost:8080/"
        },
        "id": "TdOpwBgVCf7R",
        "outputId": "8db0ef31-0d67-43d0-ead5-b76b5e2ceee3"
      },
      "outputs": [
        {
          "output_type": "execute_result",
          "data": {
            "text/plain": [
              "[1, 2, [2, 3], 3, 4]"
            ]
          },
          "metadata": {},
          "execution_count": 274
        }
      ],
      "source": [
        "a"
      ]
    },
    {
      "cell_type": "code",
      "execution_count": 275,
      "metadata": {
        "id": "HgwVK8KaCf7S"
      },
      "outputs": [],
      "source": [
        "a.append([5, 6])"
      ]
    },
    {
      "cell_type": "code",
      "execution_count": 125,
      "metadata": {
        "colab": {
          "base_uri": "https://localhost:8080/"
        },
        "id": "d9DJQpCWCf7S",
        "outputId": "202a9f66-add9-42f2-9ee9-35a23a9759f2"
      },
      "outputs": [
        {
          "output_type": "execute_result",
          "data": {
            "text/plain": [
              "[1, 2, [2, 3], 3, 4, [5, 6]]"
            ]
          },
          "metadata": {},
          "execution_count": 125
        }
      ],
      "source": [
        "a"
      ]
    },
    {
      "cell_type": "code",
      "execution_count": 281,
      "metadata": {
        "id": "iZE6lKezCf7S"
      },
      "outputs": [],
      "source": [
        "a.insert(0, '5')"
      ]
    },
    {
      "cell_type": "code",
      "execution_count": 282,
      "metadata": {
        "colab": {
          "base_uri": "https://localhost:8080/"
        },
        "id": "pLtonY3_Cf7S",
        "outputId": "7f19d757-8f4f-449e-9527-3a407df95977"
      },
      "outputs": [
        {
          "output_type": "execute_result",
          "data": {
            "text/plain": [
              "['5', [6, 5], 4, 3, [2, 3], 2, 1, 'hi']"
            ]
          },
          "metadata": {},
          "execution_count": 282
        }
      ],
      "source": [
        "a"
      ]
    },
    {
      "cell_type": "code",
      "execution_count": 277,
      "metadata": {
        "id": "iimzb2UlCf7S"
      },
      "outputs": [],
      "source": [
        "a.reverse()"
      ]
    },
    {
      "cell_type": "code",
      "execution_count": 278,
      "metadata": {
        "id": "QgKoLm9OCf7S"
      },
      "outputs": [],
      "source": [
        "a[0].reverse()"
      ]
    },
    {
      "cell_type": "code",
      "execution_count": 279,
      "metadata": {
        "colab": {
          "base_uri": "https://localhost:8080/"
        },
        "id": "TnnOwZ_QCf7S",
        "outputId": "d7ac0eea-62c0-45fe-8205-e79b403068ad"
      },
      "outputs": [
        {
          "output_type": "execute_result",
          "data": {
            "text/plain": [
              "[[6, 5], 4, 3, [2, 3], 2, 1, 'hi']"
            ]
          },
          "metadata": {},
          "execution_count": 279
        }
      ],
      "source": [
        "a"
      ]
    },
    {
      "cell_type": "code",
      "execution_count": 283,
      "metadata": {
        "colab": {
          "base_uri": "https://localhost:8080/",
          "height": 165
        },
        "id": "sqWhbDskCf7S",
        "outputId": "3126d297-2838-44c5-e475-e9c13e85999c"
      },
      "outputs": [
        {
          "output_type": "error",
          "ename": "TypeError",
          "evalue": "ignored",
          "traceback": [
            "\u001b[0;31m---------------------------------------------------------------------------\u001b[0m",
            "\u001b[0;31mTypeError\u001b[0m                                 Traceback (most recent call last)",
            "\u001b[0;32m<ipython-input-283-2ed0d7de6146>\u001b[0m in \u001b[0;36m<cell line: 1>\u001b[0;34m()\u001b[0m\n\u001b[0;32m----> 1\u001b[0;31m \u001b[0ma\u001b[0m\u001b[0;34m.\u001b[0m\u001b[0msort\u001b[0m\u001b[0;34m(\u001b[0m\u001b[0;34m)\u001b[0m\u001b[0;34m\u001b[0m\u001b[0;34m\u001b[0m\u001b[0m\n\u001b[0m",
            "\u001b[0;31mTypeError\u001b[0m: '<' not supported between instances of 'list' and 'str'"
          ]
        }
      ],
      "source": [
        "a.sort()"
      ]
    },
    {
      "cell_type": "code",
      "execution_count": 284,
      "metadata": {
        "id": "2QvuJprZCf7S"
      },
      "outputs": [],
      "source": [
        "blist = list(range(10, 0, -1))"
      ]
    },
    {
      "cell_type": "code",
      "execution_count": 133,
      "metadata": {
        "colab": {
          "base_uri": "https://localhost:8080/"
        },
        "id": "5jY4-CU9Cf7S",
        "outputId": "bff170e3-d7af-46ae-f4ff-eb6f166886b1"
      },
      "outputs": [
        {
          "output_type": "execute_result",
          "data": {
            "text/plain": [
              "[10, 9, 8, 7, 6, 5, 4, 3, 2, 1]"
            ]
          },
          "metadata": {},
          "execution_count": 133
        }
      ],
      "source": [
        "blist"
      ]
    },
    {
      "cell_type": "code",
      "execution_count": 285,
      "metadata": {
        "id": "AxXfhZWCCf7S"
      },
      "outputs": [],
      "source": [
        "blist.sort()"
      ]
    },
    {
      "cell_type": "code",
      "execution_count": 286,
      "metadata": {
        "colab": {
          "base_uri": "https://localhost:8080/"
        },
        "id": "9l8Y9DAwCf7S",
        "outputId": "db8fc1ff-3f23-475c-d13c-9e88528e1b38"
      },
      "outputs": [
        {
          "output_type": "stream",
          "name": "stdout",
          "text": [
            "[1, 2, 3, 4, 5, 6, 7, 8, 9, 10]\n"
          ]
        }
      ],
      "source": [
        "print(blist)"
      ]
    },
    {
      "cell_type": "code",
      "execution_count": 287,
      "metadata": {
        "id": "Ih9eIF8ACf7S"
      },
      "outputs": [],
      "source": [
        "blist.sort(reverse=True)"
      ]
    },
    {
      "cell_type": "code",
      "execution_count": 288,
      "metadata": {
        "colab": {
          "base_uri": "https://localhost:8080/"
        },
        "id": "1tujYkRtCf7T",
        "outputId": "21fde2e1-3b43-49cc-dab2-c653068d1aa5"
      },
      "outputs": [
        {
          "output_type": "execute_result",
          "data": {
            "text/plain": [
              "[10, 9, 8, 7, 6, 5, 4, 3, 2, 1]"
            ]
          },
          "metadata": {},
          "execution_count": 288
        }
      ],
      "source": [
        "blist"
      ]
    },
    {
      "cell_type": "code",
      "execution_count": 289,
      "metadata": {
        "id": "7JyrJ0XeCf7T"
      },
      "outputs": [],
      "source": [
        "m = max(blist)\n",
        "mI = blist.index(m)"
      ]
    },
    {
      "cell_type": "code",
      "execution_count": 290,
      "metadata": {
        "colab": {
          "base_uri": "https://localhost:8080/"
        },
        "id": "MvBYZM14Cf7T",
        "outputId": "bbcbcaab-b173-435f-ea30-0b696546d8b5"
      },
      "outputs": [
        {
          "output_type": "stream",
          "name": "stdout",
          "text": [
            "0\n"
          ]
        }
      ],
      "source": [
        "print(mI)"
      ]
    },
    {
      "cell_type": "code",
      "execution_count": 292,
      "metadata": {
        "colab": {
          "base_uri": "https://localhost:8080/"
        },
        "id": "7Oqub2BiCf7T",
        "outputId": "4684b269-76f7-4b6b-e627-797c0fbbc549"
      },
      "outputs": [
        {
          "output_type": "execute_result",
          "data": {
            "text/plain": [
              "1"
            ]
          },
          "metadata": {},
          "execution_count": 292
        }
      ],
      "source": [
        "min(blist)"
      ]
    },
    {
      "cell_type": "code",
      "execution_count": 294,
      "metadata": {
        "colab": {
          "base_uri": "https://localhost:8080/"
        },
        "id": "W0QyBinxCf7T",
        "outputId": "a9a56f02-96ee-49df-ea2b-14a10e9f69d3"
      },
      "outputs": [
        {
          "output_type": "stream",
          "name": "stdout",
          "text": [
            "0\n"
          ]
        }
      ],
      "source": [
        "print(blist.count(100))"
      ]
    },
    {
      "cell_type": "markdown",
      "metadata": {
        "id": "SBM1q3ZwCf7T"
      },
      "source": [
        "## 8.14 List applications\n",
        "\n",
        "### convert a string to list of integers"
      ]
    },
    {
      "cell_type": "code",
      "execution_count": 295,
      "metadata": {
        "colab": {
          "base_uri": "https://localhost:8080/"
        },
        "id": "A5mp9k3NCf7T",
        "outputId": "333f09a5-0fc1-4dc7-ae51-b65243721980"
      },
      "outputs": [
        {
          "name": "stdout",
          "output_type": "stream",
          "text": [
            "Enter 5 numbers separated by space: 89 12 45 789 2\n"
          ]
        }
      ],
      "source": [
        "nums = input('Enter 5 numbers separated by space: ')"
      ]
    },
    {
      "cell_type": "code",
      "execution_count": 296,
      "metadata": {
        "colab": {
          "base_uri": "https://localhost:8080/",
          "height": 36
        },
        "id": "OajYDKw9Cf7T",
        "outputId": "ed69cf1d-6477-4d47-8428-21ada988de4f"
      },
      "outputs": [
        {
          "output_type": "execute_result",
          "data": {
            "text/plain": [
              "'89 12 45 789 2'"
            ],
            "application/vnd.google.colaboratory.intrinsic+json": {
              "type": "string"
            }
          },
          "metadata": {},
          "execution_count": 296
        }
      ],
      "source": [
        "nums"
      ]
    },
    {
      "cell_type": "code",
      "execution_count": 297,
      "metadata": {
        "id": "ziv-tT-tCf7T"
      },
      "outputs": [],
      "source": [
        "nums = nums.split(' ')"
      ]
    },
    {
      "cell_type": "code",
      "execution_count": 298,
      "metadata": {
        "colab": {
          "base_uri": "https://localhost:8080/"
        },
        "id": "RxkJM1rQCf7T",
        "outputId": "3994b159-16bf-44ab-c2f6-f911efecfe26"
      },
      "outputs": [
        {
          "output_type": "execute_result",
          "data": {
            "text/plain": [
              "['89', '12', '45', '789', '2']"
            ]
          },
          "metadata": {},
          "execution_count": 298
        }
      ],
      "source": [
        "nums"
      ]
    },
    {
      "cell_type": "code",
      "execution_count": 299,
      "metadata": {
        "id": "WMQZsJKWCf7T"
      },
      "outputs": [],
      "source": [
        "intNums = []\n",
        "for n in nums:\n",
        "    intN = int(n)\n",
        "    intNums.append(intN)"
      ]
    },
    {
      "cell_type": "code",
      "execution_count": 300,
      "metadata": {
        "colab": {
          "base_uri": "https://localhost:8080/"
        },
        "id": "PK3ddAllCf7U",
        "outputId": "89cf4641-06de-4115-c49f-dda30c092e93"
      },
      "outputs": [
        {
          "output_type": "execute_result",
          "data": {
            "text/plain": [
              "[89, 12, 45, 789, 2]"
            ]
          },
          "metadata": {},
          "execution_count": 300
        }
      ],
      "source": [
        "intNums"
      ]
    },
    {
      "cell_type": "code",
      "execution_count": 301,
      "metadata": {
        "id": "SIKL5EVaCf7U"
      },
      "outputs": [],
      "source": [
        "intNums.sort()"
      ]
    },
    {
      "cell_type": "code",
      "execution_count": 302,
      "metadata": {
        "colab": {
          "base_uri": "https://localhost:8080/"
        },
        "id": "T1kuWow6Cf7U",
        "outputId": "51d509cb-a988-41d5-d4f8-7195c4af6546"
      },
      "outputs": [
        {
          "output_type": "execute_result",
          "data": {
            "text/plain": [
              "[2, 12, 45, 89, 789]"
            ]
          },
          "metadata": {},
          "execution_count": 302
        }
      ],
      "source": [
        "intNums"
      ]
    },
    {
      "cell_type": "markdown",
      "metadata": {
        "id": "satXUSi-Cf7U"
      },
      "source": [
        "### convert list of integers to string"
      ]
    },
    {
      "cell_type": "code",
      "execution_count": 303,
      "metadata": {
        "id": "VzUF_HJECf7U"
      },
      "outputs": [],
      "source": [
        "strNum = []\n",
        "for n in intNums:\n",
        "    strNum.append(str(n))"
      ]
    },
    {
      "cell_type": "code",
      "execution_count": 305,
      "metadata": {
        "colab": {
          "base_uri": "https://localhost:8080/"
        },
        "id": "JQ6WGZTTCf7U",
        "outputId": "595eb342-c50b-4f8c-b0cc-4c6731e8f2d4"
      },
      "outputs": [
        {
          "output_type": "execute_result",
          "data": {
            "text/plain": [
              "['2', '12', '45', '89', '789']"
            ]
          },
          "metadata": {},
          "execution_count": 305
        }
      ],
      "source": [
        "strNum"
      ]
    },
    {
      "cell_type": "code",
      "execution_count": 306,
      "metadata": {
        "id": "oIHTUvvaCf7U"
      },
      "outputs": [],
      "source": [
        "strNum = ' '.join(strNum)"
      ]
    },
    {
      "cell_type": "code",
      "execution_count": 307,
      "metadata": {
        "colab": {
          "base_uri": "https://localhost:8080/",
          "height": 36
        },
        "id": "HSlNfrtmCf7U",
        "outputId": "779fefae-6a94-42e6-9f6e-528ce070eb35"
      },
      "outputs": [
        {
          "output_type": "execute_result",
          "data": {
            "text/plain": [
              "'2 12 45 89 789'"
            ],
            "application/vnd.google.colaboratory.intrinsic+json": {
              "type": "string"
            }
          },
          "metadata": {},
          "execution_count": 307
        }
      ],
      "source": [
        "strNum"
      ]
    },
    {
      "cell_type": "markdown",
      "metadata": {
        "id": "WOJ9UqXpCf7U"
      },
      "source": [
        "## 8.15 Passing list to function - pass-by-reference\n",
        "- mutable types such as list are passed-by-reference\n",
        "- an alias or reference is passed instead of a copy of the data"
      ]
    },
    {
      "cell_type": "code",
      "execution_count": 308,
      "metadata": {
        "id": "zT0lcxbNCf7U"
      },
      "outputs": [],
      "source": [
        "def getData(someList):# someList is formal parameter\n",
        "    for i in range(5):\n",
        "        a = int(input('enter a number: '))\n",
        "        someList.append(a)"
      ]
    },
    {
      "cell_type": "code",
      "execution_count": 309,
      "metadata": {
        "colab": {
          "base_uri": "https://localhost:8080/"
        },
        "id": "sZ8AWiqSCf7V",
        "outputId": "9b594b4b-d19d-477a-94c4-ae4a2a45d538"
      },
      "outputs": [
        {
          "name": "stdout",
          "output_type": "stream",
          "text": [
            "enter a number: 6\n",
            "enter a number: 8\n",
            "enter a number: 10\n",
            "enter a number: 45\n",
            "enter a number: 9\n"
          ]
        }
      ],
      "source": [
        "alist = []\n",
        "getData(alist) # alist is actual argument"
      ]
    },
    {
      "cell_type": "code",
      "execution_count": 310,
      "metadata": {
        "colab": {
          "base_uri": "https://localhost:8080/"
        },
        "id": "xHe2Ti99Cf7V",
        "outputId": "17750b6e-fe20-4e32-c659-59ed47a8ba01"
      },
      "outputs": [
        {
          "output_type": "execute_result",
          "data": {
            "text/plain": [
              "[6, 8, 10, 45, 9]"
            ]
          },
          "metadata": {},
          "execution_count": 310
        }
      ],
      "source": [
        "# when formal parameter is updated, actual parameter is also updated\n",
        "alist"
      ]
    },
    {
      "cell_type": "markdown",
      "metadata": {
        "id": "gJopvbbrCf7V"
      },
      "source": [
        "### [visualize - pass-by-reference with pythontutor.com](http://pythontutor.com/visualize.html#code=def%20getData%28someList%29%3A%23%20someList%20is%20formal%20parameter%0A%20%20%20%20for%20i%20in%20range%285%29%3A%0A%20%20%20%20%20%20%20%20a%20%3D%20int%28input%28'enter%20a%20number%3A%20'%29%29%0A%20%20%20%20%20%20%20%20someList.append%28a%29%0A%0Aalist%20%3D%20%5B%5D%0AgetData%28alist%29%20%23%20alist%20is%20actual%20argument&cumulative=false&curInstr=0&heapPrimitives=false&mode=display&origin=opt-frontend.js&py=3&rawInputLstJSON=%5B%5D&textReferences=false)"
      ]
    },
    {
      "cell_type": "markdown",
      "metadata": {
        "id": "wcstMLOcCf7V"
      },
      "source": [
        "## 8.16 return list from functions\n",
        "- lists can be returned from functions"
      ]
    },
    {
      "cell_type": "code",
      "execution_count": 311,
      "metadata": {
        "id": "LY1D9sWqCf7V"
      },
      "outputs": [],
      "source": [
        "def getMaxMin(alist):\n",
        "    m = max(alist)\n",
        "    minVal = min(alist)\n",
        "    return [m, minVal]\n",
        ""
      ]
    },
    {
      "cell_type": "code",
      "execution_count": 313,
      "metadata": {
        "colab": {
          "base_uri": "https://localhost:8080/"
        },
        "id": "2Q3g0qiNCf7W",
        "outputId": "b9c735cf-2c65-4bec-9ff1-d0424561d64e"
      },
      "outputs": [
        {
          "output_type": "stream",
          "name": "stdout",
          "text": [
            "[1999999, -1000]\n"
          ]
        }
      ],
      "source": [
        "alist = list(range(-1000, 2000000))\n",
        "print(getMaxMin(alist))"
      ]
    },
    {
      "cell_type": "code",
      "execution_count": 314,
      "metadata": {
        "id": "fQy8wNBoCf7X"
      },
      "outputs": [],
      "source": [
        "assert getMaxMin(alist) == [1999999, -1000]"
      ]
    },
    {
      "cell_type": "markdown",
      "metadata": {
        "id": "iFdR4EqSCf7X"
      },
      "source": [
        "## 8.17 Casting lista en tupla y viceversa\n",
        "- dado que las tuplas son inmutables, puede ser beneficioso convertirlas en listas y actualizarlas\n",
        "- puede volver a convertir la lista a tupla nuevamente"
      ]
    },
    {
      "cell_type": "code",
      "execution_count": 315,
      "metadata": {
        "colab": {
          "base_uri": "https://localhost:8080/"
        },
        "id": "qmxR-7e7Cf7X",
        "outputId": "b6a01b0a-3b32-4c0b-cec6-2ef23c8d6d40"
      },
      "outputs": [
        {
          "output_type": "stream",
          "name": "stdout",
          "text": [
            "[1, 2, 3]\n"
          ]
        }
      ],
      "source": [
        "atuple = (1, 2, 3)\n",
        "alist = list(atuple)\n",
        "print(alist)"
      ]
    },
    {
      "cell_type": "code",
      "execution_count": 316,
      "metadata": {
        "id": "UcMsBvPPCf7X"
      },
      "outputs": [],
      "source": [
        "btuple = tuple(alist)"
      ]
    },
    {
      "cell_type": "code",
      "execution_count": 317,
      "metadata": {
        "colab": {
          "base_uri": "https://localhost:8080/"
        },
        "id": "WhEYBVPCCf7X",
        "outputId": "833718fc-7147-4c4f-a5b4-adf5843dcbae"
      },
      "outputs": [
        {
          "output_type": "stream",
          "name": "stdout",
          "text": [
            "(1, 2, 3)\n"
          ]
        }
      ],
      "source": [
        "print(btuple)"
      ]
    },
    {
      "cell_type": "code",
      "execution_count": 318,
      "metadata": {
        "colab": {
          "base_uri": "https://localhost:8080/"
        },
        "id": "boV-1Ic1Cf7X",
        "outputId": "7b8b68c4-e4ef-4c88-9c9d-8dbd63c0a4f8"
      },
      "outputs": [
        {
          "output_type": "execute_result",
          "data": {
            "text/plain": [
              "True"
            ]
          },
          "metadata": {},
          "execution_count": 318
        }
      ],
      "source": [
        "atuple == btuple"
      ]
    },
    {
      "cell_type": "code",
      "execution_count": 319,
      "metadata": {
        "colab": {
          "base_uri": "https://localhost:8080/"
        },
        "id": "wX8cupQMCf7X",
        "outputId": "0fc7d5bd-6e53-4b8b-db4f-0d06dcb5dcb0"
      },
      "outputs": [
        {
          "output_type": "stream",
          "name": "stdout",
          "text": [
            "(1, 2, 3) [1, 2, 3]\n",
            "False\n"
          ]
        }
      ],
      "source": [
        "# eventhough the elements are equal; the types of two objects are not\n",
        "print(atuple, alist)\n",
        "print(atuple == alist)"
      ]
    },
    {
      "cell_type": "markdown",
      "metadata": {
        "id": "4DirOosUCf7X"
      },
      "source": [
        "## 8.18 Exercises\n",
        "1. Realiza un programa que calcula la suma de todos los elementos de una lista\n",
        "\n"
      ]
    },
    {
      "cell_type": "code",
      "source": [
        "lista = [5, 10]\n",
        "\n",
        "\n",
        "\n",
        "print(\"La suma de los elementos de la lista es:\", suma)"
      ],
      "metadata": {
        "colab": {
          "base_uri": "https://localhost:8080/"
        },
        "id": "uDEhLMHBKWIs",
        "outputId": "b934fbd4-b136-4ff7-a273-99c5cc57ab5d"
      },
      "execution_count": 174,
      "outputs": [
        {
          "output_type": "stream",
          "name": "stdout",
          "text": [
            "La suma de los elementos de la lista es: 15\n"
          ]
        }
      ]
    },
    {
      "cell_type": "markdown",
      "source": [
        "2. Realiza un programa que encuentra el número máximo en una lista de números\n",
        "\n"
      ],
      "metadata": {
        "id": "eWxsD0bOKgZN"
      }
    },
    {
      "cell_type": "code",
      "source": [
        "lista = [17, 12, 25, 8, 31, 19]\n",
        "\n",
        "\n",
        "\n",
        "print(\"El número máximo en la lista es:\", maximo)"
      ],
      "metadata": {
        "colab": {
          "base_uri": "https://localhost:8080/"
        },
        "id": "7wWGB7q9KaIT",
        "outputId": "e499b6f2-d7c6-4c50-c1e7-c3cee9e6d3ca"
      },
      "execution_count": 175,
      "outputs": [
        {
          "output_type": "stream",
          "name": "stdout",
          "text": [
            "El número máximo en la lista es: 31\n"
          ]
        }
      ]
    },
    {
      "cell_type": "code",
      "execution_count": null,
      "metadata": {
        "id": "bvyr6i_aCf7Y"
      },
      "outputs": [],
      "source": []
    }
  ],
  "metadata": {
    "kernelspec": {
      "display_name": "Python 3",
      "language": "python",
      "name": "python3"
    },
    "language_info": {
      "codemirror_mode": {
        "name": "ipython",
        "version": 3
      },
      "file_extension": ".py",
      "mimetype": "text/x-python",
      "name": "python",
      "nbconvert_exporter": "python",
      "pygments_lexer": "ipython3",
      "version": "3.7.3"
    },
    "colab": {
      "provenance": [],
      "include_colab_link": true
    }
  },
  "nbformat": 4,
  "nbformat_minor": 0
}